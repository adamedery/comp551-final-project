{
 "cells": [
  {
   "cell_type": "code",
   "execution_count": null,
   "metadata": {},
   "outputs": [],
   "source": [
    "# Import statements and global helper methods\n",
    "import numpy as np\n",
    "import nltk\n",
    "from nltk.corpus import wordnet\n",
    "from nltk.stem import WordNetLemmatizer\n",
    "from sklearn.naive_bayes import MultinomialNB, BernoulliNB\n",
    "from sklearn.feature_extraction.text import CountVectorizer"
   ]
  },
  {
   "cell_type": "code",
   "execution_count": null,
   "metadata": {},
   "outputs": [],
   "source": [
    "# Load in the data sets\n",
    "\n",
    "raw_sentences = []\n",
    "\n",
    "with open(\"datasets/datasetSentences.txt\", encoding=\"utf-8\") as sentence_file:\n",
    "    # Skip header line\n",
    "    next(sentence_file)\n",
    "    for line in sentence_file:\n",
    "        sentence = line.split(\"\\t\")[1].strip()\n",
    "        raw_sentences.append(sentence)\n",
    "    \n",
    "sentiment_map = {}\n",
    "with open(\"datasets/sentiment_labels.txt\") as sentiment_file:\n",
    "    next(sentiment_file)\n",
    "    for line in sentiment_file:\n",
    "        index, score = tuple(line.split(\"|\"))\n",
    "        score = float(score.strip())\n",
    "        sentiment_map[index] = score\n",
    "    \n",
    "sentence_to_phrase_map = {}\n",
    "with open(\"datasets/dictionary.txt\", encoding=\"utf-8\") as dictionary_file:\n",
    "    for line in dictionary_file:\n",
    "        phrase, phrase_num = tuple(line.split(\"|\"))\n",
    "        sentence_to_phrase_map[phrase] = phrase_num.strip()\n",
    "\n",
    "labelled_sentences = [(sentence, sentiment_map[sentence_to_phrase_map[sentence]]) for sentence in raw_sentences]\n",
    "            \n",
    "splits = ([], [], [])\n",
    "\n",
    "with open(\"datasets/datasetSplit.txt\") as split_file:\n",
    "    next(split_file)\n",
    "    for line in split_file:\n",
    "        index, split = tuple(line.split(\",\"))\n",
    "        index, split = int(index), int(split)\n",
    "        # Splits are labelled 1-3\n",
    "        splits[split - 1].append(labelled_sentences[index - 1])\n",
    "        \n",
    "train_set, test_set, dev_set = splits"
   ]
  },
  {
   "cell_type": "code",
   "execution_count": null,
   "metadata": {},
   "outputs": [],
   "source": [
    "# Tools for feature extraction\n",
    "\n",
    "# When lemmatizing, we need to convert from NLTK's part of speec\n",
    "# to wordnet's recognized parts of speech\n",
    "def get_wordnet_pos(treebank_pos):\n",
    "    if treebank_pos.startswith('J'):\n",
    "        return wordnet.ADJ\n",
    "    elif treebank_pos.startswith('V'):\n",
    "        return wordnet.VERB\n",
    "    elif treebank_pos.startswith('N'):\n",
    "        return wordnet.NOUN\n",
    "    elif treebank_pos.startswith('R'):\n",
    "        return wordnet.ADV\n",
    "    else:\n",
    "        return wordnet.NOUN\n",
    "\n",
    "def sentence_tokenize(sentence, lemmatizer = WordNetLemmatizer()):\n",
    "    tokens = nltk.word_tokenize(s)\n",
    "    tagged_tokens = nltk.pos_tag(tokens)\n",
    "    return [lemmatizer(w, pos=get_wordnet_pos(pos)) for (w, pos) in tagged_tokens]\n",
    "\n",
    "count_vectorizer = CountVectorizer(\n",
    "    input = \"content\",\n",
    "    tokenizer = sentence_tokenize\n",
    ")\n",
    "\n",
    "tuple_count_vectorizer = CountVectorizer(\n",
    "    input = \"content\",\n",
    "    tokenizer = sentence_tokenize\n",
    "    ngram_range = (2, 2)\n",
    ")\n",
    "\n",
    "# Fit all the sentences in the training set\n",
    "count_vectorizer.fit([s for s, _ in train_set])\n",
    "tuple_count_vectorizer.fit([s for s, _ in train_set])\n",
    "\n",
    "def count_vectorize(sentences, ngram=False):\n",
    "    if ngram:\n",
    "        return tuple_count_vectorizer.transform(sentences)\n",
    "    else:\n",
    "        return count_vectorizer.transform(sentences)\n",
    "    \n",
    "def binary_vectorize(sentences, ngram=False):\n",
    "    raw_vectors = count_vectorize(sentences, ngram)\n",
    "    return np.clip(raw_vectors, 0, 1)"
   ]
  },
  {
   "cell_type": "code",
   "execution_count": null,
   "metadata": {},
   "outputs": [],
   "source": [
    "# Naive Bayes\n",
    "\n",
    "# Step 1: Vectorize binary and count vectors based on the train vocabulary\n",
    "# Step 2: Run BernoulliNB and Multinomial NB on those vectors, testing performance\n",
    "# Step 3: Run the same models on the vectors but using broader categories (positive, negative)\n",
    "# Step 4: Tune the hyper-parameters\n",
    "\n"
   ]
  },
  {
   "cell_type": "code",
   "execution_count": null,
   "metadata": {},
   "outputs": [],
   "source": [
    "# Bigram Naive Bayes"
   ]
  },
  {
   "cell_type": "code",
   "execution_count": null,
   "metadata": {},
   "outputs": [],
   "source": [
    "# SVM"
   ]
  },
  {
   "cell_type": "code",
   "execution_count": null,
   "metadata": {},
   "outputs": [],
   "source": [
    "# Word Vector Averaging"
   ]
  },
  {
   "cell_type": "code",
   "execution_count": null,
   "metadata": {},
   "outputs": [],
   "source": [
    "# Recurrent Neural Networks"
   ]
  },
  {
   "cell_type": "code",
   "execution_count": null,
   "metadata": {},
   "outputs": [],
   "source": [
    "# Matrix Vector RNN"
   ]
  },
  {
   "cell_type": "code",
   "execution_count": null,
   "metadata": {},
   "outputs": [],
   "source": [
    "# Recurrent Tensor Neural Networks"
   ]
  }
 ],
 "metadata": {
  "kernelspec": {
   "display_name": "Python 3",
   "language": "python",
   "name": "python3"
  },
  "language_info": {
   "codemirror_mode": {
    "name": "ipython",
    "version": 3
   },
   "file_extension": ".py",
   "mimetype": "text/x-python",
   "name": "python",
   "nbconvert_exporter": "python",
   "pygments_lexer": "ipython3",
   "version": "3.6.7"
  }
 },
 "nbformat": 4,
 "nbformat_minor": 2
}
