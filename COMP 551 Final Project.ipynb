{
 "cells": [
  {
   "cell_type": "code",
   "execution_count": 36,
   "metadata": {},
   "outputs": [],
   "source": [
    "# Import statements and global helper methods\n",
    "import numpy as np\n",
    "import nltk\n",
    "from nltk.corpus import wordnet\n",
    "from nltk.stem import WordNetLemmatizer\n",
    "from sklearn.naive_bayes import MultinomialNB, BernoulliNB\n",
    "from sklearn.feature_extraction.text import CountVectorizer\n",
    "from tqdm import tqdm_notebook"
   ]
  },
  {
   "cell_type": "code",
   "execution_count": 37,
   "metadata": {},
   "outputs": [
    {
     "data": {
      "application/vnd.jupyter.widget-view+json": {
       "model_id": "6c7718f36ded465e8dc50eed7e743f5c",
       "version_major": 2,
       "version_minor": 0
      },
      "text/plain": [
       "HBox(children=(IntProgress(value=1, bar_style='info', max=1), HTML(value='')))"
      ]
     },
     "metadata": {},
     "output_type": "display_data"
    },
    {
     "name": "stdout",
     "output_type": "stream",
     "text": [
      "\n"
     ]
    },
    {
     "data": {
      "application/vnd.jupyter.widget-view+json": {
       "model_id": "0ba6b28c77df4a1998ec96546d64e727",
       "version_major": 2,
       "version_minor": 0
      },
      "text/plain": [
       "HBox(children=(IntProgress(value=1, bar_style='info', max=1), HTML(value='')))"
      ]
     },
     "metadata": {},
     "output_type": "display_data"
    },
    {
     "name": "stdout",
     "output_type": "stream",
     "text": [
      "\n"
     ]
    },
    {
     "data": {
      "application/vnd.jupyter.widget-view+json": {
       "model_id": "88fe869b4d354afba4aa58e10b2ec156",
       "version_major": 2,
       "version_minor": 0
      },
      "text/plain": [
       "HBox(children=(IntProgress(value=1, bar_style='info', max=1), HTML(value='')))"
      ]
     },
     "metadata": {},
     "output_type": "display_data"
    },
    {
     "name": "stdout",
     "output_type": "stream",
     "text": [
      "\n"
     ]
    },
    {
     "data": {
      "application/vnd.jupyter.widget-view+json": {
       "model_id": "0c539be387ce439d851614dc5a5fe819",
       "version_major": 2,
       "version_minor": 0
      },
      "text/plain": [
       "HBox(children=(IntProgress(value=1, bar_style='info', max=1), HTML(value='')))"
      ]
     },
     "metadata": {},
     "output_type": "display_data"
    },
    {
     "name": "stdout",
     "output_type": "stream",
     "text": [
      "\n"
     ]
    }
   ],
   "source": [
    "# Load in the data sets\n",
    "\n",
    "raw_sentences = []\n",
    "\n",
    "with open(\"datasets/datasetSentences.txt\", encoding=\"utf-8\") as sentence_file:\n",
    "    # Skip header line\n",
    "    next(sentence_file)\n",
    "    for line in tqdm_notebook(sentence_file):\n",
    "        sentence = line.split(\"\\t\")[1].strip()\n",
    "        raw_sentences.append(sentence)\n",
    "    \n",
    "sentiment_map = {}\n",
    "with open(\"datasets/sentiment_labels.txt\") as sentiment_file:\n",
    "    next(sentiment_file)\n",
    "    for line in tqdm_notebook(sentiment_file):\n",
    "        index, score = tuple(line.split(\"|\"))\n",
    "        score = float(score.strip())\n",
    "        sentiment_map[index] = score\n",
    "    \n",
    "sentence_to_phrase_map = {}\n",
    "with open(\"datasets/dictionary.txt\", encoding=\"utf-8\") as dictionary_file:\n",
    "    for line in tqdm_notebook(dictionary_file):\n",
    "        phrase, phrase_num = tuple(line.split(\"|\"))\n",
    "        sentence_to_phrase_map[phrase] = phrase_num.strip()\n",
    "\n",
    "labelled_sentences = [(sentence, sentiment_map[sentence_to_phrase_map[sentence]]) for sentence in raw_sentences]\n",
    "            \n",
    "splits = ([], [], [])\n",
    "\n",
    "with open(\"datasets/datasetSplit.txt\") as split_file:\n",
    "    next(split_file)\n",
    "    for line in tqdm_notebook(split_file):\n",
    "        index, split = tuple(line.split(\",\"))\n",
    "        index, split = int(index), int(split)\n",
    "        # Splits are labelled 1-3\n",
    "        splits[split - 1].append(labelled_sentences[index - 1])\n",
    "        \n",
    "train_set, test_set, dev_set = splits\n",
    "train_sentences, train_y = zip(*train_set)\n",
    "dev_sentences, dev_y = zip(*dev_set)\n",
    "test_sentences, test_y = zip(*test_set)"
   ]
  },
  {
   "cell_type": "code",
   "execution_count": 38,
   "metadata": {},
   "outputs": [],
   "source": [
    "# Tools for feature extraction\n",
    "\n",
    "# When lemmatizing, we need to convert from NLTK's part of speec\n",
    "# to wordnet's recognized parts of speech\n",
    "def get_wordnet_pos(treebank_pos):\n",
    "    if treebank_pos.startswith('J'):\n",
    "        return wordnet.ADJ\n",
    "    elif treebank_pos.startswith('V'):\n",
    "        return wordnet.VERB\n",
    "    elif treebank_pos.startswith('N'):\n",
    "        return wordnet.NOUN\n",
    "    elif treebank_pos.startswith('R'):\n",
    "        return wordnet.ADV\n",
    "    else:\n",
    "        return wordnet.NOUN\n",
    "\n",
    "def sentence_tokenize(sentence, lem = WordNetLemmatizer()):\n",
    "    tokens = nltk.word_tokenize(sentence)\n",
    "    tagged_tokens = nltk.pos_tag(tokens)\n",
    "    return [lem.lemmatize(w, pos=get_wordnet_pos(pos)) for (w, pos) in tagged_tokens]\n",
    "\n",
    "count_vectorizer = CountVectorizer(\n",
    "    input = \"content\",\n",
    "    tokenizer = sentence_tokenize\n",
    ")\n",
    "\n",
    "tuple_count_vectorizer = CountVectorizer(\n",
    "    input = \"content\",\n",
    "    tokenizer = sentence_tokenize,\n",
    "    ngram_range = (2, 2)\n",
    ")\n",
    "\n",
    "# Fit all the sentences in the training set\n",
    "count_vectorizer.fit(train_sentences)\n",
    "tuple_count_vectorizer.fit(train_sentences)\n",
    "\n",
    "def count_vectorize(sentences, ngram=False):\n",
    "    if ngram:\n",
    "        return tuple_count_vectorizer.transform(sentences)\n",
    "    else:\n",
    "        return count_vectorizer.transform(sentences)\n",
    "    \n",
    "def binary_vectorize(sentences, ngram=False):\n",
    "    raw_vectors = count_vectorize(sentences, ngram)\n",
    "    return np.clip(raw_vectors, 0, 1)"
   ]
  },
  {
   "cell_type": "code",
   "execution_count": 39,
   "metadata": {},
   "outputs": [
    {
     "data": {
      "application/vnd.jupyter.widget-view+json": {
       "model_id": "26975a9d62154cc8883406f52c9feb78",
       "version_major": 2,
       "version_minor": 0
      },
      "text/plain": [
       "HBox(children=(IntProgress(value=0, max=8544), HTML(value='')))"
      ]
     },
     "metadata": {},
     "output_type": "display_data"
    },
    {
     "name": "stdout",
     "output_type": "stream",
     "text": [
      "\n"
     ]
    },
    {
     "data": {
      "application/vnd.jupyter.widget-view+json": {
       "model_id": "4da0b065a4144d0db7667a87364a0ccc",
       "version_major": 2,
       "version_minor": 0
      },
      "text/plain": [
       "HBox(children=(IntProgress(value=0, max=1101), HTML(value='')))"
      ]
     },
     "metadata": {},
     "output_type": "display_data"
    },
    {
     "name": "stdout",
     "output_type": "stream",
     "text": [
      "\n"
     ]
    },
    {
     "data": {
      "application/vnd.jupyter.widget-view+json": {
       "model_id": "2e3801d5121643228394d6dfd5064dd2",
       "version_major": 2,
       "version_minor": 0
      },
      "text/plain": [
       "HBox(children=(IntProgress(value=0, max=2210), HTML(value='')))"
      ]
     },
     "metadata": {},
     "output_type": "display_data"
    },
    {
     "name": "stdout",
     "output_type": "stream",
     "text": [
      "\n"
     ]
    },
    {
     "data": {
      "application/vnd.jupyter.widget-view+json": {
       "model_id": "7feb9034eefa4f0fbf31a73a7e2d486b",
       "version_major": 2,
       "version_minor": 0
      },
      "text/plain": [
       "HBox(children=(IntProgress(value=0, max=8544), HTML(value='')))"
      ]
     },
     "metadata": {},
     "output_type": "display_data"
    },
    {
     "name": "stdout",
     "output_type": "stream",
     "text": [
      "\n"
     ]
    },
    {
     "data": {
      "application/vnd.jupyter.widget-view+json": {
       "model_id": "49daf2e2846d4f84a97074514ce29932",
       "version_major": 2,
       "version_minor": 0
      },
      "text/plain": [
       "HBox(children=(IntProgress(value=0, max=1101), HTML(value='')))"
      ]
     },
     "metadata": {},
     "output_type": "display_data"
    },
    {
     "name": "stdout",
     "output_type": "stream",
     "text": [
      "\n"
     ]
    },
    {
     "data": {
      "application/vnd.jupyter.widget-view+json": {
       "model_id": "da31cf4011af4f83b618ace60b86a27a",
       "version_major": 2,
       "version_minor": 0
      },
      "text/plain": [
       "HBox(children=(IntProgress(value=0, max=2210), HTML(value='')))"
      ]
     },
     "metadata": {},
     "output_type": "display_data"
    },
    {
     "name": "stdout",
     "output_type": "stream",
     "text": [
      "\n"
     ]
    }
   ],
   "source": [
    "# Label conversion\n",
    "def coarse_label(sentiment):\n",
    "    if sentiment >= 0.5:\n",
    "        return \"Positive\"\n",
    "    else:\n",
    "        return \"Negative\"\n",
    "    \n",
    "def fine_label(sentiment):\n",
    "    if sentiment < 0.2:\n",
    "        return \"Very Negative\"\n",
    "    elif sentiment < 0.4:\n",
    "        return \"Negative\"\n",
    "    elif sentiment < 0.6:\n",
    "        return \"Neutral\"\n",
    "    elif sentiment < 0.8:\n",
    "        return \"Positive\"\n",
    "    else:\n",
    "        return \"Very Positive\"\n",
    "    \n",
    "coarse_train_y = [coarse_label(y) for y in tqdm_notebook(train_y)]\n",
    "coarse_dev_y = [coarse_label(y) for y in tqdm_notebook(dev_y)]\n",
    "coarse_test_y = [coarse_label(y) for y in tqdm_notebook(test_y)]\n",
    "\n",
    "fine_train_y = [fine_label(y) for y in tqdm_notebook(train_y)]\n",
    "fine_dev_y = [fine_label(y) for y in tqdm_notebook(dev_y)]\n",
    "fine_test_y = [fine_label(y) for y in tqdm_notebook(test_y)]"
   ]
  },
  {
   "cell_type": "code",
   "execution_count": 40,
   "metadata": {},
   "outputs": [],
   "source": [
    "# Naive Bayes\n",
    "\n",
    "# Step 1: Vectorize binary and count vectors based on the train vocabulary\n",
    "# Step 2: Run BernoulliNB and Multinomial NB on those vectors, testing performance\n",
    "# Step 3: Run the same models on the vectors but using broader categories (positive, negative)\n",
    "# Step 4: Tune the hyper-parameters\n",
    "\n"
   ]
  },
  {
   "cell_type": "code",
   "execution_count": 41,
   "metadata": {},
   "outputs": [],
   "source": [
    "# Bigram Naive Bayes"
   ]
  },
  {
   "cell_type": "code",
   "execution_count": 42,
   "metadata": {},
   "outputs": [],
   "source": [
    "# SVM"
   ]
  },
  {
   "cell_type": "code",
   "execution_count": 43,
   "metadata": {},
   "outputs": [],
   "source": [
    "# Word Vector Averaging"
   ]
  },
  {
   "cell_type": "code",
   "execution_count": 44,
   "metadata": {},
   "outputs": [],
   "source": [
    "# Recurrent Neural Networks"
   ]
  },
  {
   "cell_type": "code",
   "execution_count": 45,
   "metadata": {},
   "outputs": [],
   "source": [
    "# Matrix Vector RNN"
   ]
  },
  {
   "cell_type": "code",
   "execution_count": 46,
   "metadata": {},
   "outputs": [],
   "source": [
    "# Recurrent Tensor Neural Networks"
   ]
  }
 ],
 "metadata": {
  "kernelspec": {
   "display_name": "Python 3",
   "language": "python",
   "name": "python3"
  },
  "language_info": {
   "codemirror_mode": {
    "name": "ipython",
    "version": 3
   },
   "file_extension": ".py",
   "mimetype": "text/x-python",
   "name": "python",
   "nbconvert_exporter": "python",
   "pygments_lexer": "ipython3",
   "version": "3.6.7"
  }
 },
 "nbformat": 4,
 "nbformat_minor": 2
}
