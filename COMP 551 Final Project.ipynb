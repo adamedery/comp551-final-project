{
 "cells": [
  {
   "cell_type": "code",
   "execution_count": 2,
   "metadata": {},
   "outputs": [],
   "source": [
    "# Import statements and global helper methods\n",
    "import numpy as np"
   ]
  },
  {
   "cell_type": "code",
   "execution_count": 7,
   "metadata": {},
   "outputs": [],
   "source": [
    "# Load in the data sets\n",
    "\n",
    "raw_sentences = []\n",
    "\n",
    "with open(\"datasets/datasetSentences.txt\") as sentence_file:\n",
    "    # Skip header line\n",
    "    next(sentence_file)\n",
    "    for line in sentence_file:\n",
    "        sentence = line.split(\"\\t\")[1].strip()\n",
    "        raw_sentences.append(sentence)\n",
    "        \n",
    "splits = ([], [], [])\n",
    "\n",
    "with open(\"datasets/datasetSplit.txt\") as split_file:\n",
    "    next(split_file)\n",
    "    for line in split_file:\n",
    "        index, split = tuple(line.split(\",\"))\n",
    "        index, split = int(index), int(split)\n",
    "        # Splits are labelled 1-3\n",
    "        splits[split - 1].append(raw_sentences[index - 1])\n",
    "        \n",
    "train_set, test_set, dev_set = splits\n",
    "\n",
    "# A dictionary of all the \"phrases\" used in the reviews can be found in dictionary.txt\n",
    "# The sentiment label of each \"phrase\" can be found in sentiment_labels.txt\n",
    "# SOStr.txt and STree.txt encode the structure of the parse trees. \n",
    "# The next step will be pairing each sentence with its sentiment score \n",
    "# (some of the \"phrases\" are the entire sentence, so string matching should work, but it will be a bit cumbersome)"
   ]
  },
  {
   "cell_type": "code",
   "execution_count": null,
   "metadata": {},
   "outputs": [],
   "source": []
  }
 ],
 "metadata": {
  "kernelspec": {
   "display_name": "Python 3",
   "language": "python",
   "name": "python3"
  },
  "language_info": {
   "codemirror_mode": {
    "name": "ipython",
    "version": 3
   },
   "file_extension": ".py",
   "mimetype": "text/x-python",
   "name": "python",
   "nbconvert_exporter": "python",
   "pygments_lexer": "ipython3",
   "version": "3.7.1"
  }
 },
 "nbformat": 4,
 "nbformat_minor": 2
}
